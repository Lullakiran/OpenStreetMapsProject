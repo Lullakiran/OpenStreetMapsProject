{
 "metadata": {
  "name": "",
  "signature": "sha256:a6a8cbd14805e473c98fd477ca88aa3f6f39c4da95f35a1d7b904c8013b32ad8"
 },
 "nbformat": 3,
 "nbformat_minor": 0,
 "worksheets": [
  {
   "cells": [
    {
     "cell_type": "code",
     "collapsed": false,
     "input": [
      "#!/usr/bin/env python\n",
      "# Your task here is to extract data from xml on authors of an article\n",
      "# and add it to a list, one item for an author.\n",
      "# See the provided data structure for the expected format.\n",
      "# The tags for first name, surname and email should map directly\n",
      "# to the dictionary keys\n",
      "import xml.etree.ElementTree as ET\n",
      "\n",
      "article_file = \"exampleResearchArticle.xml\"\n",
      "\n",
      "\n",
      "def get_root(fname):\n",
      "    tree = ET.parse(fname)\n",
      "    return tree.getroot()\n",
      "\n",
      "\n",
      "def get_authors(root):\n",
      "    authors = []\n",
      "    for author in root.findall('./fm/bibl/aug/au'):\n",
      "            # YOUR CODE HERE\n",
      "        data = {\n",
      "                \"fnm\": author.find(\"fnm\").text,\n",
      "                \"snm\": author.find(\"snm\").text,\n",
      "                \"email\": author.find(\"email\").text\n",
      "        }\n",
      "        authors.append(data)\n",
      "\n",
      "    return authors\n",
      "\n",
      "\n",
      "def test():\n",
      "    solution = [{'fnm': 'Omer', 'snm': 'Mei-Dan', 'email': 'omer@extremegate.com'}, {'fnm': 'Mike', 'snm': 'Carmont', 'email': 'mcarmont@hotmail.com'}, {'fnm': 'Lior', 'snm': 'Laver', 'email': 'laver17@gmail.com'}, {'fnm': 'Meir', 'snm': 'Nyska', 'email': 'nyska@internet-zahav.net'}, {'fnm': 'Hagay', 'snm': 'Kammar', 'email': 'kammarh@gmail.com'}, {'fnm': 'Gideon', 'snm': 'Mann', 'email': 'gideon.mann.md@gmail.com'}, {'fnm': 'Barnaby', 'snm': 'Clarck', 'email': 'barns.nz@gmail.com'}, {'fnm': 'Eugene', 'snm': 'Kots', 'email': 'eukots@gmail.com'}]\n",
      "    \n",
      "    root = get_root(article_file)\n",
      "    data = get_authors(root)\n",
      "\n",
      "    assert data[0] == solution[0]\n",
      "    assert data[1][\"fnm\"] == solution[1][\"fnm\"]\n",
      "\n",
      "\n",
      "test()"
     ],
     "language": "python",
     "metadata": {},
     "outputs": [],
     "prompt_number": 11
    },
    {
     "cell_type": "code",
     "collapsed": false,
     "input": [],
     "language": "python",
     "metadata": {},
     "outputs": []
    }
   ],
   "metadata": {}
  }
 ]
}