{
 "metadata": {
  "name": "",
  "signature": "sha256:ecf2bd8730cd810a56eaabec9b2ad503ff74840e72f2b3bdf2b0b6e2b4de341f"
 },
 "nbformat": 3,
 "nbformat_minor": 0,
 "worksheets": [
  {
   "cells": [
    {
     "cell_type": "code",
     "collapsed": false,
     "input": [
      "import xlrd\n",
      "\n",
      "datafile = \"2013_ERCOT_Hourly_Load_Data.xls\"\n",
      "\n",
      "\n",
      "def parse_file(datafile):\n",
      "    workbook = xlrd.open_workbook(datafile)\n",
      "    sheet = workbook.sheet_by_index(0)\n",
      "\n",
      "    data = [[sheet.cell_value(r, col) \n",
      "                for col in range(sheet.ncols)] \n",
      "                    for r in range(sheet.nrows)]\n",
      "\n",
      "    print \"\\nList Comprehension\"\n",
      "    print \"data[3][2]:\",\n",
      "    print data[3][2]\n",
      "\n",
      "    print \"\\nCells in a nested loop:\"    \n",
      "    for row in range(sheet.nrows):\n",
      "        for col in range(sheet.ncols):\n",
      "            if row == 50:\n",
      "                print sheet.cell_value(row, col),\n",
      "\n",
      "\n",
      "    ### other useful methods:\n",
      "    print \"\\nROWS, COLUMNS, and CELLS:\"\n",
      "    print \"Number of rows in the sheet:\", \n",
      "    print sheet.nrows\n",
      "    print \"Type of data in cell (row 3, col 2):\", \n",
      "    print sheet.cell_type(3, 2)\n",
      "    print \"Value in cell (row 3, col 2):\", \n",
      "    print sheet.cell_value(3, 2)\n",
      "    print \"Get a slice of values in column 3, from rows 1-3:\"\n",
      "    print sheet.col_values(3, start_rowx=1, end_rowx=4)\n",
      "\n",
      "    print \"\\nDATES:\"\n",
      "    print \"Type of data in cell (row 1, col 0):\", \n",
      "    print sheet.cell_type(1, 0)\n",
      "    exceltime = sheet.cell_value(1, 0)\n",
      "    print \"Time in Excel format:\",\n",
      "    print exceltime\n",
      "    print \"Convert time to a Python datetime tuple, from the Excel float:\",\n",
      "    print xlrd.xldate_as_tuple(exceltime,0)\n",
      "\n",
      "    return data\n"
     ],
     "language": "python",
     "metadata": {},
     "outputs": [
      {
       "output_type": "stream",
       "stream": "stdout",
       "text": [
        "\n"
       ]
      }
     ],
     "prompt_number": 6
    },
    {
     "cell_type": "code",
     "collapsed": false,
     "input": [
      "data = parse_file(datafile)"
     ],
     "language": "python",
     "metadata": {},
     "outputs": [
      {
       "output_type": "stream",
       "stream": "stdout",
       "text": [
        "\n",
        "List Comprehension\n",
        "data[3][2]: 1036.088697\n",
        "\n",
        "Cells in a nested loop:\n",
        "41277.0833333 9238.73731 1438.20528 1565.442856 916.708348 14010.903488 3027.98334 6165.211119 1157.741663 37520.933404 \n",
        "ROWS, COLUMNS, and CELLS:\n",
        "Number of rows in the sheet: 7296\n",
        "Type of data in cell (row 3, col 2): 2\n",
        "Value in cell (row 3, col 2): 1036.088697\n",
        "Get a slice of values in column 3, from rows 1-3:\n",
        "[1411.7505669999982, 1403.4722870000019, 1395.053150000001]\n",
        "\n",
        "DATES:\n",
        "Type of data in cell (row 1, col 0): 3\n",
        "Time in Excel format: 41275.0416667\n",
        "Convert time to a Python datetime tuple, from the Excel float: (2013, 1, 1, 1, 0, 0)\n"
       ]
      }
     ],
     "prompt_number": 7
    },
    {
     "cell_type": "code",
     "collapsed": false,
     "input": [
      "workbook = xlrd.open_workbook(datafile)\n",
      "sheet = workbook.sheet_by_index(0)\n",
      "\n",
      "data = [[sheet.cell_value(r, col) \n",
      "                for col in range(sheet.ncols)] \n",
      "                    for r in range(sheet.nrows)]\n",
      "coast_data = sheet.col_values(1, start_rowx=1) "
     ],
     "language": "python",
     "metadata": {},
     "outputs": [],
     "prompt_number": 23
    },
    {
     "cell_type": "code",
     "collapsed": false,
     "input": [
      "max_time = 0\n",
      "min_time = 10**8\n",
      "\n",
      "max_val = 0\n",
      "min_val = 9999\n",
      "\n",
      "for ix, val in enumerate(coast_data):\n",
      "    if val>max_val:\n",
      "        max_val = val\n",
      "        max_time = data[ix+1][0]\n",
      "    if val < min_val:\n",
      "        min_val = val\n",
      "        min_time = data[ix+1][0]\n"
     ],
     "language": "python",
     "metadata": {},
     "outputs": [],
     "prompt_number": 32
    },
    {
     "cell_type": "code",
     "collapsed": false,
     "input": [
      "print min_time"
     ],
     "language": "python",
     "metadata": {},
     "outputs": [
      {
       "output_type": "stream",
       "stream": "stdout",
       "text": [
        "41308.125\n"
       ]
      }
     ],
     "prompt_number": 30
    },
    {
     "cell_type": "code",
     "collapsed": false,
     "input": [
      "import numpy"
     ],
     "language": "python",
     "metadata": {},
     "outputs": [],
     "prompt_number": 33
    },
    {
     "cell_type": "code",
     "collapsed": false,
     "input": [
      "type(coast_data)"
     ],
     "language": "python",
     "metadata": {},
     "outputs": [
      {
       "metadata": {},
       "output_type": "pyout",
       "prompt_number": 35,
       "text": [
        "list"
       ]
      }
     ],
     "prompt_number": 35
    },
    {
     "cell_type": "code",
     "collapsed": false,
     "input": [
      "sum(coast_data)/len(coast_data)"
     ],
     "language": "python",
     "metadata": {},
     "outputs": [
      {
       "metadata": {},
       "output_type": "pyout",
       "prompt_number": 37,
       "text": [
        "10976.933460679751"
       ]
      }
     ],
     "prompt_number": 37
    },
    {
     "cell_type": "code",
     "collapsed": false,
     "input": [
      "numpy.mean(coast_data)"
     ],
     "language": "python",
     "metadata": {},
     "outputs": [
      {
       "metadata": {},
       "output_type": "pyout",
       "prompt_number": 38,
       "text": [
        "10976.933460679751"
       ]
      }
     ],
     "prompt_number": 38
    },
    {
     "cell_type": "code",
     "collapsed": false,
     "input": [],
     "language": "python",
     "metadata": {},
     "outputs": []
    }
   ],
   "metadata": {}
  }
 ]
}