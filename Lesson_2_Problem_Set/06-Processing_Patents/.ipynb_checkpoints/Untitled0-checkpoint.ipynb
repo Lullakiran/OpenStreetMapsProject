{
 "metadata": {
  "name": "",
  "signature": "sha256:fce84735933f226b9d32f98407f08b7411dd0b9ae031387ae8de98b9d3f658ef"
 },
 "nbformat": 3,
 "nbformat_minor": 0,
 "worksheets": [
  {
   "cells": [
    {
     "cell_type": "code",
     "collapsed": false,
     "input": [
      "#!/usr/bin/env python\n",
      "# -*- coding: utf-8 -*-\n",
      "# So, the problem is that the gigantic file is actually not a valid XML, because\n",
      "# it has several root elements, and XML declarations.\n",
      "# It is, a matter of fact, a collection of a lot of concatenated XML documents.\n",
      "# So, one solution would be to split the file into separate documents,\n",
      "# so that you can process the resulting files as valid XML documents.\n",
      "\n",
      "import xml.etree.ElementTree as ET\n",
      "PATENTS = 'patent.data'\n",
      "\n",
      "def get_root(fname):\n",
      "    tree = ET.parse(fname)\n",
      "    return tree.getroot()\n",
      "\n",
      "\n",
      "def split_file(filename):\n",
      "    # we want you to split the input file into separate files\n",
      "    # each containing a single patent.\n",
      "    # As a hint - each patent declaration starts with the same line that was causing the error\n",
      "    # The new files should be saved with filename in the following format:\n",
      "    # \"{}-{}\".format(filename, n) where n is a counter, starting from 0.\n",
      "    try:\n",
      "        get_root(filename)\n",
      "    except ET.ParseError as pe:\n",
      "        print pe.position\n",
      "    print 't'\n",
      "    fp = open(filename)\n",
      "    for i, line in enumerate(fp):\n",
      "        if i in range(pe.position[0]-1, pe.position[0]+2):\n",
      "                print i,line\n",
      "        fp.close()   \n",
      "    pass\n",
      "\n",
      "\n",
      "def test():\n",
      "    split_file(PATENTS)\n",
      "    for n in range(4):\n",
      "        try:\n",
      "            fname = \"{}-{}\".format(PATENTS, n)\n",
      "            f = open(fname, \"r\")\n",
      "            if not f.readline().startswith(\"<?xml\"):\n",
      "                print \"You have not split the file {} in the correct boundary!\".format(fname)\n",
      "            f.close()\n",
      "        except:\n",
      "            print \"Could not find file {}. Check if the filename is correct!\".format(fname)\n",
      "\n",
      "\n",
      "test()"
     ],
     "language": "python",
     "metadata": {},
     "outputs": [
      {
       "ename": "NameError",
       "evalue": "name 'i' is not defined",
       "output_type": "pyerr",
       "traceback": [
        "\u001b[0;31m---------------------------------------------------------------------------\u001b[0m\n\u001b[0;31mNameError\u001b[0m                                 Traceback (most recent call last)",
        "\u001b[0;32m<ipython-input-3-b6b225815905>\u001b[0m in \u001b[0;36m<module>\u001b[0;34m()\u001b[0m\n\u001b[0;32m----> 1\u001b[0;31m \u001b[0mi\u001b[0m\u001b[0;31m#!/usr/bin/env python\u001b[0m\u001b[0;34m\u001b[0m\u001b[0m\n\u001b[0m\u001b[1;32m      2\u001b[0m \u001b[0;34m\u001b[0m\u001b[0m\n\u001b[1;32m      3\u001b[0m \u001b[0;31m# So, the problem is that the gigantic file is actually not a valid XML, because\u001b[0m\u001b[0;34m\u001b[0m\u001b[0;34m\u001b[0m\u001b[0m\n\u001b[1;32m      4\u001b[0m \u001b[0;31m# it has several root elements, and XML declarations.\u001b[0m\u001b[0;34m\u001b[0m\u001b[0;34m\u001b[0m\u001b[0m\n\u001b[1;32m      5\u001b[0m \u001b[0;31m# It is, a matter of fact, a collection of a lot of concatenated XML documents.\u001b[0m\u001b[0;34m\u001b[0m\u001b[0;34m\u001b[0m\u001b[0m\n",
        "\u001b[0;31mNameError\u001b[0m: name 'i' is not defined"
       ]
      }
     ],
     "prompt_number": 3
    },
    {
     "cell_type": "code",
     "collapsed": false,
     "input": [],
     "language": "python",
     "metadata": {},
     "outputs": []
    }
   ],
   "metadata": {}
  }
 ]
}