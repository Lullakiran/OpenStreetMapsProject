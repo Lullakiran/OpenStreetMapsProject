{
 "metadata": {
  "name": "",
  "signature": "sha256:d39b9875a59bab8181de00fca90cf95f5891473e94f38b70c6d5530add02b83c"
 },
 "nbformat": 3,
 "nbformat_minor": 0,
 "worksheets": [
  {
   "cells": [
    {
     "cell_type": "code",
     "collapsed": false,
     "input": [
      "#!/usr/bin/env python\n",
      "# -*- coding: utf-8 -*-\n",
      "# This and the following exercise are using US Patent database.\n",
      "# The patent.data file is a small excerpt of a much larger datafile\n",
      "# that is available for download from US Patent website. They are pretty large ( >100 MB each).\n",
      "# The data itself is in XML, however there is a problem with how it's formatted.\n",
      "# Please run this script and observe the error. Then find the line that is causing the error.\n",
      "# You can do that by just looking at the datafile in the web UI, or programmatically.\n",
      "# For quiz purposes it does not matter, but as an exercise we suggest that you try to do it programmatically.\n",
      "# The original file is ~600MB large, you might not be able to open it in a text editor.\n",
      "# NOTE: You do not need to correct the error - for now, just find where the error is occurring.\n",
      "\n",
      "import xml.etree.ElementTree as ET\n",
      "from xml.parsers.expat import ErrorString\n",
      "\n",
      "PATENTS = 'patent.data'\n",
      "\n",
      "def get_root(fname):\n",
      "    \n",
      "    \n",
      "    try:\n",
      "        tree = ET.parse(fname)\n",
      "    except ET.ParseError as pe:\n",
      "        print 'Error Message:', ErrorString(pe.code), pe.position\n",
      "    \n",
      "    finally:\n",
      "        \n",
      "        fp = open(fname)\n",
      "        for i, line in enumerate(fp):\n",
      "            if i in range(pe.position[0]-1, pe.position[0]+2):\n",
      "                print i,line\n",
      "        fp.close()\n",
      "    \n",
      "    \n",
      "    #return tree.getroot()\n",
      "\n",
      "\n",
      "get_root(PATENTS)"
     ],
     "language": "python",
     "metadata": {},
     "outputs": [
      {
       "output_type": "stream",
       "stream": "stdout",
       "text": [
        "Error Message: junk after document element (657, 0)\n",
        "656 <?xml version=\"1.0\" encoding=\"UTF-8\"?>\n",
        "\n",
        "657 <!DOCTYPE us-patent-grant SYSTEM \"us-patent-grant-v44-2013-05-16.dtd\" [ ]>\n",
        "\n",
        "658 <us-patent-grant lang=\"EN\" dtd-version=\"v4.4 2013-05-16\" file=\"USD0696837-20140107.XML\" status=\"PRODUCTION\" id=\"us-patent-grant\" country=\"US\" date-produced=\"20131224\" date-publ=\"20140107\">\n",
        "\n"
       ]
      }
     ],
     "prompt_number": 36
    },
    {
     "cell_type": "code",
     "collapsed": false,
     "input": [],
     "language": "python",
     "metadata": {},
     "outputs": [],
     "prompt_number": 19
    },
    {
     "cell_type": "code",
     "collapsed": false,
     "input": [],
     "language": "python",
     "metadata": {},
     "outputs": []
    }
   ],
   "metadata": {}
  }
 ]
}