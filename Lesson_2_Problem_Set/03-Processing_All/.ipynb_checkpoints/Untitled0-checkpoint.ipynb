{
 "metadata": {
  "name": "",
  "signature": "sha256:d0afe61bd2666e469d8c010a925d6579ddca84739d402b77bad27a4995a4bd19"
 },
 "nbformat": 3,
 "nbformat_minor": 0,
 "worksheets": [
  {
   "cells": [
    {
     "cell_type": "code",
     "collapsed": false,
     "input": [
      "#!/usr/bin/env python\n",
      "# -*- coding: utf-8 -*-\n",
      "# Let's assume that you combined the code from the previous 2 exercises\n",
      "# with code from the lesson on how to build requests, and downloaded all the data locally.\n",
      "# The files are in a directory \"data\", named after the carrier and airport:\n",
      "# \"{}-{}.html\".format(carrier, airport), for example \"FL-ATL.html\".\n",
      "# The table with flight info has a table class=\"dataTDRight\".\n",
      "# There are couple of helper functions to deal with the data files.\n",
      "# Please do not change them for grading purposes.\n",
      "# All your changes should be in the 'process_file' function\n",
      "from bs4 import BeautifulSoup\n",
      "from zipfile import ZipFile\n",
      "import os\n",
      "\n",
      "datadir = \"data\"\n",
      "\n",
      "\n",
      "def open_zip(datadir):\n",
      "    with ZipFile('{0}.zip'.format(datadir), 'r') as myzip:\n",
      "        myzip.extractall()\n",
      "\n",
      "\n",
      "def process_all(datadir):\n",
      "    files = os.listdir(datadir)\n",
      "    return files\n",
      "\n",
      "\n",
      "def process_file(f):\n",
      "    # This is example of the datastructure you should return\n",
      "    # Each item in the list should be a dictionary containing all the relevant data\n",
      "    # Note - year, month, and the flight data should be integers\n",
      "    # You should skip the rows that contain the TOTAL data for a year\n",
      "    # data = [{\"courier\": \"FL\",\n",
      "    #         \"airport\": \"ATL\",\n",
      "    #         \"year\": 2012,\n",
      "    #         \"month\": 12,\n",
      "    #         \"flights\": {\"domestic\": 100,\n",
      "    #                     \"international\": 100}\n",
      "    #         },\n",
      "    #         {\"courier\": \"...\"}\n",
      "    # ]\n",
      "    data = []\n",
      "    info = {}\n",
      "    info[\"courier\"], info[\"airport\"] = f[:6].split(\"-\")\n",
      "    \n",
      "    with open(\"{}/{}\".format(datadir, f), \"r\") as html:\n",
      "\n",
      "        soup = BeautifulSoup(html)\n",
      "        #table = soup.find(\"class\":\"dataTDRight\")\n",
      "        #print table\n",
      "        for rows in soup.findAll(\"tr\", {\"class\":\"dataTDRight\"}):\n",
      "            \n",
      "            row = []\n",
      "            for cols in rows.find_all(\"td\"):\n",
      "                row.append((cols.contents[0]).encode('ascii'))\n",
      "            if \"TOTAL\" not in row[1]:\n",
      "                row = [int(i.replace(\",\",\"\")) for i in row]\n",
      "                entry = {\"courier\": info[\"courier\"], \"airport\":info[\"airport\"], \"year\": row[0], \"month\": row[1], \"flights\": {\"domestic\":row[2], \"international\":row[3]}}\n",
      "                data.append(entry)\n",
      "\n",
      "    return data\n",
      "def test():\n",
      "    print \"Running a simple test...\"\n",
      "    open_zip(datadir)\n",
      "    files = process_all(datadir)\n",
      "    data = []\n",
      "    for f in files:\n",
      "        \n",
      "        data += process_file(f)\n",
      "        \n",
      "    assert len(data) == 399  # Total number of rows\n",
      "    for entry in data[:3]:\n",
      "        assert type(entry[\"year\"]) == int\n",
      "        assert type(entry[\"month\"]) == int\n",
      "        assert type(entry[\"flights\"][\"domestic\"]) == int\n",
      "        assert len(entry[\"airport\"]) == 3\n",
      "        assert len(entry[\"courier\"]) == 2\n",
      "    assert data[-1][\"airport\"] == \"ATL\"\n",
      "    assert data[-1][\"flights\"] == {'international': 108289, 'domestic': 701425}\n",
      "    \n",
      "    print \"... success!\"\n",
      "\n",
      "if __name__ == \"__main__\":\n",
      "    test()\n"
     ],
     "language": "python",
     "metadata": {},
     "outputs": [
      {
       "output_type": "stream",
       "stream": "stdout",
       "text": [
        "2002\n",
        "10\n",
        "815,489\n",
        "92,565\n",
        "908,054\n"
       ]
      },
      {
       "ename": "ValueError",
       "evalue": "invalid literal for int() with base 10: \"[u'10']\"",
       "output_type": "pyerr",
       "traceback": [
        "\u001b[0;31m---------------------------------------------------------------------------\u001b[0m\n\u001b[0;31mValueError\u001b[0m                                Traceback (most recent call last)",
        "\u001b[0;32m<ipython-input-98-4dc45be43c38>\u001b[0m in \u001b[0;36m<module>\u001b[0;34m()\u001b[0m\n\u001b[1;32m     91\u001b[0m \u001b[0;31m#    test()\u001b[0m\u001b[0;34m\u001b[0m\u001b[0;34m\u001b[0m\u001b[0m\n\u001b[1;32m     92\u001b[0m \u001b[0;34m\u001b[0m\u001b[0m\n\u001b[0;32m---> 93\u001b[0;31m \u001b[0mprocess_file\u001b[0m\u001b[0;34m(\u001b[0m\u001b[0;34m\"\"\u001b[0m\u001b[0;34m)\u001b[0m\u001b[0;34m\u001b[0m\u001b[0m\n\u001b[0m",
        "\u001b[0;32m<ipython-input-98-4dc45be43c38>\u001b[0m in \u001b[0;36mprocess_file\u001b[0;34m(f)\u001b[0m\n\u001b[1;32m     63\u001b[0m                 \u001b[0;31m#data.append(entry)\u001b[0m\u001b[0;34m\u001b[0m\u001b[0;34m\u001b[0m\u001b[0m\n\u001b[1;32m     64\u001b[0m             \u001b[0;32mif\u001b[0m \u001b[0;34m\"TOTAL\"\u001b[0m \u001b[0;32mnot\u001b[0m \u001b[0;32min\u001b[0m \u001b[0mrow\u001b[0m\u001b[0;34m[\u001b[0m\u001b[0;36m1\u001b[0m\u001b[0;34m]\u001b[0m\u001b[0;34m:\u001b[0m\u001b[0;34m\u001b[0m\u001b[0m\n\u001b[0;32m---> 65\u001b[0;31m                 \u001b[0mentry\u001b[0m \u001b[0;34m=\u001b[0m \u001b[0;34m{\u001b[0m\u001b[0;34m\"courier\"\u001b[0m\u001b[0;34m:\u001b[0m \u001b[0minfo\u001b[0m\u001b[0;34m[\u001b[0m\u001b[0;34m\"courier\"\u001b[0m\u001b[0;34m]\u001b[0m\u001b[0;34m,\u001b[0m \u001b[0;34m\"airport\"\u001b[0m\u001b[0;34m:\u001b[0m\u001b[0minfo\u001b[0m\u001b[0;34m[\u001b[0m\u001b[0;34m\"airport\"\u001b[0m\u001b[0;34m]\u001b[0m\u001b[0;34m,\u001b[0m \u001b[0;34m\"year\"\u001b[0m\u001b[0;34m:\u001b[0m \u001b[0mrow\u001b[0m\u001b[0;34m[\u001b[0m\u001b[0;36m0\u001b[0m\u001b[0;34m]\u001b[0m\u001b[0;34m,\u001b[0m \u001b[0;34m\"month\"\u001b[0m\u001b[0;34m:\u001b[0m \u001b[0mint\u001b[0m\u001b[0;34m(\u001b[0m\u001b[0mstr\u001b[0m\u001b[0;34m(\u001b[0m\u001b[0mrow\u001b[0m\u001b[0;34m[\u001b[0m\u001b[0;36m1\u001b[0m\u001b[0;34m]\u001b[0m\u001b[0;34m)\u001b[0m\u001b[0;34m)\u001b[0m\u001b[0;34m,\u001b[0m \u001b[0;34m\"flights\"\u001b[0m\u001b[0;34m:\u001b[0m \u001b[0;34m{\u001b[0m\u001b[0;34m\"domestic\"\u001b[0m\u001b[0;34m:\u001b[0m\u001b[0mrow\u001b[0m\u001b[0;34m[\u001b[0m\u001b[0;36m2\u001b[0m\u001b[0;34m]\u001b[0m\u001b[0;34m,\u001b[0m \u001b[0;34m\"international\"\u001b[0m\u001b[0;34m:\u001b[0m\u001b[0mrow\u001b[0m\u001b[0;34m[\u001b[0m\u001b[0;36m3\u001b[0m\u001b[0;34m]\u001b[0m\u001b[0;34m}\u001b[0m\u001b[0;34m}\u001b[0m\u001b[0;34m\u001b[0m\u001b[0m\n\u001b[0m\u001b[1;32m     66\u001b[0m                 \u001b[0mdata\u001b[0m\u001b[0;34m.\u001b[0m\u001b[0mappend\u001b[0m\u001b[0;34m(\u001b[0m\u001b[0mentry\u001b[0m\u001b[0;34m)\u001b[0m\u001b[0;34m\u001b[0m\u001b[0m\n\u001b[1;32m     67\u001b[0m \u001b[0;34m\u001b[0m\u001b[0m\n",
        "\u001b[0;31mValueError\u001b[0m: invalid literal for int() with base 10: \"[u'10']\""
       ]
      }
     ],
     "prompt_number": 98
    },
    {
     "cell_type": "code",
     "collapsed": false,
     "input": [
      "print int((\"TOTAL\").encode(\"ascii\"))"
     ],
     "language": "python",
     "metadata": {},
     "outputs": [
      {
       "ename": "ValueError",
       "evalue": "invalid literal for int() with base 10: 'TOTAL'",
       "output_type": "pyerr",
       "traceback": [
        "\u001b[0;31m---------------------------------------------------------------------------\u001b[0m\n\u001b[0;31mValueError\u001b[0m                                Traceback (most recent call last)",
        "\u001b[0;32m<ipython-input-100-d2a14d38b26b>\u001b[0m in \u001b[0;36m<module>\u001b[0;34m()\u001b[0m\n\u001b[0;32m----> 1\u001b[0;31m \u001b[0;32mprint\u001b[0m \u001b[0mint\u001b[0m\u001b[0;34m(\u001b[0m\u001b[0;34m(\u001b[0m\u001b[0;34m\"TOTAL\"\u001b[0m\u001b[0;34m)\u001b[0m\u001b[0;34m.\u001b[0m\u001b[0mencode\u001b[0m\u001b[0;34m(\u001b[0m\u001b[0;34m\"ascii\"\u001b[0m\u001b[0;34m)\u001b[0m\u001b[0;34m)\u001b[0m\u001b[0;34m\u001b[0m\u001b[0m\n\u001b[0m",
        "\u001b[0;31mValueError\u001b[0m: invalid literal for int() with base 10: 'TOTAL'"
       ]
      }
     ],
     "prompt_number": 100
    },
    {
     "cell_type": "code",
     "collapsed": false,
     "input": [],
     "language": "python",
     "metadata": {},
     "outputs": []
    }
   ],
   "metadata": {}
  }
 ]
}