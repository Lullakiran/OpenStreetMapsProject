{
 "metadata": {
  "name": "",
  "signature": "sha256:8a51864c0b246cf4f148f3725430a85a7c1aef697322c47fec07645216e0d80c"
 },
 "nbformat": 3,
 "nbformat_minor": 0,
 "worksheets": [
  {
   "cells": [
    {
     "cell_type": "code",
     "collapsed": false,
     "input": [
      "#!/usr/bin/env python\n",
      "# -*- coding: utf-8 -*-\n",
      "# All your changes should be in the 'extract_airports' function\n",
      "# It should return a list of airport codes, excluding any combinations like \"All\"\n",
      "\n",
      "from bs4 import BeautifulSoup\n",
      "html_page = \"options.html\"\n",
      "\n",
      "\n",
      "def extract_airports(page):\n",
      "    data = []\n",
      "    with open(page, \"r\") as html:\n",
      "        # do something here to find the necessary values\n",
      "        soup = BeautifulSoup(html)\n",
      "        airports = soup.find(id=\"AirportList\")\n",
      "        for airport in airports.find_all(\"option\"):\n",
      "            if \"All\" not in airp\n",
      "\n",
      "    return data\n",
      "\n",
      "\n",
      "def test():\n",
      "    data = extract_airports(html_page)\n",
      "    assert len(data) == 15\n",
      "    assert \"ATL\" in data\n",
      "    assert \"ABR\" in data\n",
      "\n",
      "test()"
     ],
     "language": "python",
     "metadata": {},
     "outputs": [
      {
       "output_type": "stream",
       "stream": "stdout",
       "text": [
        "<option selected=\"selected\" value=\"All\">All</option>\n",
        "<option value=\"AllMajors\">All Major Airports</option>\n",
        "<option value=\"ATL\"> - Atlanta, GA: Hartsfield-Jackson Atlanta International</option>\n",
        "<option value=\"BWI\"> - Baltimore, MD: Baltimore/Washington International Thurgood Marshall</option>\n",
        "<option value=\"BOS\"> - Boston, MA: Logan International</option>\n",
        "<option value=\"CLT\"> - Charlotte, NC: Charlotte Douglas International</option>\n",
        "<option value=\"MDW\"> - Chicago, IL: Chicago Midway International</option>\n",
        "<option value=\"ORD\"> - Chicago, IL: Chicago O'Hare International</option>\n",
        "<option value=\"DFW\"> - Dallas/Fort Worth, TX: Dallas/Fort Worth International</option>\n",
        "<option value=\"DEN\"> - Denver, CO: Denver International</option>\n",
        "<option value=\"DTW\"> - Detroit, MI: Detroit Metro Wayne County</option>\n",
        "<option value=\"FLL\"> - Fort Lauderdale, FL: Fort Lauderdale-Hollywood International</option>\n",
        "<option value=\"IAH\"> - Houston, TX: George Bush Intercontinental/Houston</option>\n",
        "<option value=\"LAS\"> - Las Vegas, NV: McCarran International</option>\n",
        "<option value=\"LAX\"> - Los Angeles, CA: Los Angeles International</option>\n",
        "<option value=\"AllOthers\">All Other Airports</option>\n",
        "<option value=\"ABR\"> - Aberdeen, SD: Aberdeen Regional</option>\n",
        "<option value=\"ABI\"> - Abilene, TX: Abilene Regional</option>\n"
       ]
      },
      {
       "ename": "AssertionError",
       "evalue": "",
       "output_type": "pyerr",
       "traceback": [
        "\u001b[0;31m---------------------------------------------------------------------------\u001b[0m\n\u001b[0;31mAssertionError\u001b[0m                            Traceback (most recent call last)",
        "\u001b[0;32m<ipython-input-4-5b76d94bf634>\u001b[0m in \u001b[0;36m<module>\u001b[0;34m()\u001b[0m\n\u001b[1;32m     26\u001b[0m     \u001b[0;32massert\u001b[0m \u001b[0;34m\"ABR\"\u001b[0m \u001b[0;32min\u001b[0m \u001b[0mdata\u001b[0m\u001b[0;34m\u001b[0m\u001b[0m\n\u001b[1;32m     27\u001b[0m \u001b[0;34m\u001b[0m\u001b[0m\n\u001b[0;32m---> 28\u001b[0;31m \u001b[0mtest\u001b[0m\u001b[0;34m(\u001b[0m\u001b[0;34m)\u001b[0m\u001b[0;34m\u001b[0m\u001b[0m\n\u001b[0m",
        "\u001b[0;32m<ipython-input-4-5b76d94bf634>\u001b[0m in \u001b[0;36mtest\u001b[0;34m()\u001b[0m\n\u001b[1;32m     22\u001b[0m \u001b[0;32mdef\u001b[0m \u001b[0mtest\u001b[0m\u001b[0;34m(\u001b[0m\u001b[0;34m)\u001b[0m\u001b[0;34m:\u001b[0m\u001b[0;34m\u001b[0m\u001b[0m\n\u001b[1;32m     23\u001b[0m     \u001b[0mdata\u001b[0m \u001b[0;34m=\u001b[0m \u001b[0mextract_airports\u001b[0m\u001b[0;34m(\u001b[0m\u001b[0mhtml_page\u001b[0m\u001b[0;34m)\u001b[0m\u001b[0;34m\u001b[0m\u001b[0m\n\u001b[0;32m---> 24\u001b[0;31m     \u001b[0;32massert\u001b[0m \u001b[0mlen\u001b[0m\u001b[0;34m(\u001b[0m\u001b[0mdata\u001b[0m\u001b[0;34m)\u001b[0m \u001b[0;34m==\u001b[0m \u001b[0;36m15\u001b[0m\u001b[0;34m\u001b[0m\u001b[0m\n\u001b[0m\u001b[1;32m     25\u001b[0m     \u001b[0;32massert\u001b[0m \u001b[0;34m\"ATL\"\u001b[0m \u001b[0;32min\u001b[0m \u001b[0mdata\u001b[0m\u001b[0;34m\u001b[0m\u001b[0m\n\u001b[1;32m     26\u001b[0m     \u001b[0;32massert\u001b[0m \u001b[0;34m\"ABR\"\u001b[0m \u001b[0;32min\u001b[0m \u001b[0mdata\u001b[0m\u001b[0;34m\u001b[0m\u001b[0m\n",
        "\u001b[0;31mAssertionError\u001b[0m: "
       ]
      }
     ],
     "prompt_number": 4
    },
    {
     "cell_type": "code",
     "collapsed": false,
     "input": [],
     "language": "python",
     "metadata": {},
     "outputs": []
    }
   ],
   "metadata": {}
  }
 ]
}