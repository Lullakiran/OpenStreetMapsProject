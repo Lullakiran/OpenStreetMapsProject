{
 "cells": [
  {
   "cell_type": "code",
   "execution_count": 1,
   "metadata": {
    "collapsed": false
   },
   "outputs": [],
   "source": [
    "import xml.etree.ElementTree as ET\n",
    "import codecs\n",
    "import json\n",
    "import re"
   ]
  },
  {
   "cell_type": "code",
   "execution_count": 2,
   "metadata": {
    "collapsed": false
   },
   "outputs": [],
   "source": [
    "def get_root(fname):\n",
    "    tree = ET.parse(fname)\n",
    "    return tree.getroot()\n",
    "\n",
    "input_ankara = \"ankara_turkey.osm\"\n",
    "root = get_root(input_ankara)"
   ]
  },
  {
   "cell_type": "code",
   "execution_count": 3,
   "metadata": {
    "collapsed": false
   },
   "outputs": [],
   "source": [
    "def count_tags(root,tag):\n",
    "    tag_count = 0\n",
    "    for i in root.findall(tag):\n",
    "        tag_count += 1\n",
    "    return tag_count\n",
    "\n",
    "\n",
    "def count_users(root):\n",
    "    user = set()\n",
    "    for i in root.findall('node') :\n",
    "        try:\n",
    "            user.add(i.attrib['user'])\n",
    "        except:\n",
    "            pass\n",
    "    for i in root.findall('way'):\n",
    "        try:\n",
    "            user.add(i.attrib['user'])\n",
    "        except:\n",
    "            pass\n",
    "    return  len(user) \n",
    " "
   ]
  },
  {
   "cell_type": "code",
   "execution_count": 4,
   "metadata": {
    "collapsed": false
   },
   "outputs": [
    {
     "name": "stdout",
     "output_type": "stream",
     "text": [
      "{'node': 638467, 'relation': 220, 'user': 500, 'way': 92056}\n"
     ]
    }
   ],
   "source": [
    "counts = {}\n",
    "for i in ['node', 'way', 'relation' ]:\n",
    "    counts[i] = count_tags(root,i)\n",
    "counts['user'] = count_users(root)\n",
    "print counts"
   ]
  },
  {
   "cell_type": "code",
   "execution_count": 5,
   "metadata": {
    "collapsed": false
   },
   "outputs": [],
   "source": [
    "def extend_abbrevations(word):\n",
    "    \n",
    "    abbrevations = { 'Cd.': 'Caddesi', 'Cad.':'Caddesi', 'Cd':'Caddesi', 'Sk.':'Sokak', \n",
    "                    'Mah.':'Mahallesi', 'Blv.':u'Bulvar\\u0131', 'Bul.':u'Bulvar\\u0131'}\n",
    "    for i in word.split():\n",
    "        try:\n",
    "            word = word.replace(i,abbrevations[i])\n",
    "        except:\n",
    "            pass\n",
    "    return word"
   ]
  },
  {
   "cell_type": "code",
   "execution_count": 6,
   "metadata": {
    "collapsed": true
   },
   "outputs": [],
   "source": [
    "def correct_postcode(postcode):  #postcodes must start with 06, and must be 5 digits long\n",
    "    if len(postcode) != 5: # found short postcodes like 0600, 65 in the data\n",
    "        return None\n",
    "    elif re.match(r'(06\\d\\d\\d)',postcode)  == None: #check if all digits (i.e. not Esma 3 Sokak) and starts with 06\n",
    "        print 'postcode', postcode\n",
    "        return None\n",
    "    return postcode\n",
    "    "
   ]
  },
  {
   "cell_type": "markdown",
   "metadata": {},
   "source": [
    "## Problems ##\n",
    "1) Abbreviated street, avenue names (e.g. 'Cad.', 'Cd', 'Sk.')\n",
    "\n",
    "2) Capitalization problems (e.g. 'cad.' , u'kalekap\\u0131s\\u0131' , 'ANKARA') \n",
    "\n",
    "3) Postcodes should consist of exactly 5 digits, and should start with 06."
   ]
  },
  {
   "cell_type": "code",
   "execution_count": 7,
   "metadata": {
    "collapsed": false
   },
   "outputs": [],
   "source": [
    "global k \n",
    "k=0"
   ]
  },
  {
   "cell_type": "code",
   "execution_count": 8,
   "metadata": {
    "collapsed": false
   },
   "outputs": [],
   "source": [
    "us_ct = 0\n",
    "uniq_users = set()\n",
    "def get_value(element, attribute): #inspired from http://goo.gl/1n3xO5, assigns value if the field exists\n",
    "    try:\n",
    "        return element.attrib[attribute]\n",
    "    except:\n",
    "        return None\n",
    "    \n",
    "def shape_element(element):\n",
    "    global uniq_users\n",
    "    node = {}\n",
    "    lower_colon = re.compile(r'^([a-z]|_)*:([a-z]|_)*$')\n",
    "    problemchars = re.compile(r'[=\\+/&<>;\\'\"\\?%#$@\\,\\. \\t\\r\\n]')\n",
    "\n",
    "    if element.tag == \"node\" or element.tag == \"way\" :\n",
    "        node['type'] = element.tag\n",
    "        node['id'] =  element.attrib['id']\n",
    "        \n",
    "        node['created'] = { 'timestamp' : get_value(element,'timestamp'),\n",
    "                            'version': get_value(element,'version'),\n",
    "                            'changeset': get_value(element,'changeset'), \n",
    "                            'user':get_value(element,'user'), \n",
    "                            'uid': get_value(element,'uid')}\n",
    "        node['visible'] =  get_value(element,'visible')\n",
    "        \n",
    "        try:    \n",
    "            node['pos'] = [float(get_value(element,'lat')), float(get_value(element,'lon'))]\n",
    "        except:\n",
    "            pass\n",
    "        \n",
    "        try:\n",
    "            uniq_users.add(get_value(element,'user'))\n",
    "        except:\n",
    "            pass\n",
    "        \n",
    "        \n",
    "        for i in element:\n",
    "        \n",
    "            if element.tag==\"way\":\n",
    "                try:\n",
    "                    node.setdefault('node_refs',[]).append(i.attrib['ref'])        #http://stackoverflow.com/questions/12905999/python-dict-how-to-create-key-or-append-an-element-to-key\n",
    "                except:\n",
    "                    pass\n",
    "            \n",
    "            try:\n",
    "                if \"addr\" in i.attrib['k']:\n",
    "                    addr, field = lower_colon.match(i.attrib['k']).group().split(':') \n",
    "                    length = len(lower_colon.match(i.attrib['k']).group().split(':'))\n",
    "                    v = i.attrib['v']\n",
    "\n",
    "                    if  length <= 2 and addr=='addr' and problemchars.match(v) == None:   \n",
    "                        if field == 'postcode':\n",
    "                            #v = correct_postcode(v)\n",
    "                            v=v\n",
    "                        \n",
    "                        #fix capitalizations, and abbrevations\n",
    "                        #node.setdefault('address',{}).update({ field: extend_abbrevations(v).title  }) \n",
    "                        node.setdefault('address',{}).update({ field: extend_abbrevations(v)  }) \n",
    "                else:\n",
    "                     \n",
    "                    if i.attrib['k'] != 'type': #some entries have <tag k = \"type\" v=...>\n",
    "                        node[i.attrib['k']] = i.attrib['v']\n",
    "                    \n",
    "            except:\n",
    "                pass\n",
    "            \n",
    "        return node\n",
    "    else:\n",
    "  \n",
    "        return None\n"
   ]
  },
  {
   "cell_type": "code",
   "execution_count": 9,
   "metadata": {
    "collapsed": false
   },
   "outputs": [],
   "source": [
    "\n",
    "def process_map(file_in, pretty = False):\n",
    " \n",
    "    file_out = \"{0}.json\".format(file_in)\n",
    "    data = []\n",
    "    with codecs.open(file_out, \"w\") as fo:\n",
    "        for _, element in ET.iterparse(file_in):\n",
    "            el  = shape_element(element)\n",
    "            if el:\n",
    "                data.append(el)\n",
    "                if pretty:\n",
    "                    fo.write(json.dumps(el, indent=2)+\"\\n\")\n",
    "                else:\n",
    "                    fo.write(json.dumps(el) + \"\\n\")\n",
    "    \n",
    "    return data"
   ]
  },
  {
   "cell_type": "code",
   "execution_count": 10,
   "metadata": {
    "collapsed": false
   },
   "outputs": [],
   "source": [
    "clean_ankara = process_map(\"ankara_turkey.osm\")"
   ]
  },
  {
   "cell_type": "code",
   "execution_count": 16,
   "metadata": {
    "collapsed": false
   },
   "outputs": [
    {
     "name": "stdout",
     "output_type": "stream",
     "text": [
      "ABD Büyükelçiliği\n",
      "311\n"
     ]
    }
   ],
   "source": [
    "ct=0\n",
    "for i in clean_ankara:\n",
    "    if ct >310:\n",
    "        break\n",
    "    \n",
    " \n",
    "    try:\n",
    "        if 'ABD' in i['name']:\n",
    "            print i['name'].encode('utf-8')\n",
    "        # i['address']\n",
    "        ct += 1\n",
    "        #if i['address']['city'].islower():\n",
    "        #    print i['address']['city']\n",
    "        #    ct +=1 \n",
    "        #if i['type']=='node' or i['type']=='way':\n",
    "                 \n",
    "    except:\n",
    "        pass\n",
    "print ct\n"
   ]
  },
  {
   "cell_type": "code",
   "execution_count": null,
   "metadata": {
    "collapsed": true
   },
   "outputs": [],
   "source": []
  }
 ],
 "metadata": {
  "kernelspec": {
   "display_name": "Python 2",
   "language": "python",
   "name": "python2"
  },
  "language_info": {
   "codemirror_mode": {
    "name": "ipython",
    "version": 2
   },
   "file_extension": ".py",
   "mimetype": "text/x-python",
   "name": "python",
   "nbconvert_exporter": "python",
   "pygments_lexer": "ipython2",
   "version": "2.7.9"
  }
 },
 "nbformat": 4,
 "nbformat_minor": 0
}
