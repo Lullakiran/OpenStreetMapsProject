{
 "cells": [
  {
   "cell_type": "code",
   "execution_count": 1,
   "metadata": {
    "collapsed": false
   },
   "outputs": [],
   "source": [
    "import xml.etree.ElementTree as ET\n",
    "import codecs\n",
    "import json\n",
    "import re"
   ]
  },
  {
   "cell_type": "code",
   "execution_count": 2,
   "metadata": {
    "collapsed": false
   },
   "outputs": [],
   "source": [
    "def get_root(fname):\n",
    "    tree = ET.parse(fname)\n",
    "    return tree.getroot()\n",
    "\n",
    "input_ankara = \"ankara_turkey.osm\"\n",
    "root = get_root(input_ankara)"
   ]
  },
  {
   "cell_type": "code",
   "execution_count": 3,
   "metadata": {
    "collapsed": false
   },
   "outputs": [],
   "source": [
    "def count_tags(root,tag):\n",
    "    tag_count = 0\n",
    "    for i in root.findall(tag):\n",
    "        tag_count += 1\n",
    "    return tag_count\n",
    "\n",
    "\n",
    "def count_users(root):\n",
    "    user = set()\n",
    "    for i in root.findall('node') :\n",
    "        try:\n",
    "            user.add(i.attrib['user'])\n",
    "        except:\n",
    "            pass\n",
    "    for i in root.findall('way'):\n",
    "        try:\n",
    "            user.add(i.attrib['user'])\n",
    "        except:\n",
    "            pass\n",
    "    return  len(user) \n",
    " "
   ]
  },
  {
   "cell_type": "code",
   "execution_count": 4,
   "metadata": {
    "collapsed": false
   },
   "outputs": [
    {
     "name": "stdout",
     "output_type": "stream",
     "text": [
      "{'node': 638467, 'relation': 220, 'user': 500, 'way': 92056}\n"
     ]
    }
   ],
   "source": [
    "counts = {}\n",
    "for i in ['node', 'way', 'relation' ]:\n",
    "    counts[i] = count_tags(root,i)\n",
    "counts['user'] = count_users(root)\n",
    "print counts"
   ]
  },
  {
   "cell_type": "code",
   "execution_count": 31,
   "metadata": {
    "collapsed": false
   },
   "outputs": [],
   "source": [
    "def extend_abbrevations(word):\n",
    "    \n",
    "    abbrevations = { 'Cd.': 'Caddesi', 'Cad.':'Caddesi', 'Cd':'Caddesi', 'Sk.':'Sokak', \n",
    "                    'Mah.':'Mahallesi', 'Blv.':u'Bulvar\\u0131', 'Bul.':u'Bulvar\\u0131'}\n",
    "    for i in word.split():\n",
    "        try:\n",
    "            cleaned_word = word.replace(i,abbrevations[i]).title()\n",
    "            print \"before cleaning: \", word, \"\\t after cleaning: \", cleaned_word.title()\n",
    "        except:\n",
    "            pass\n",
    "    return cleaned_word"
   ]
  },
  {
   "cell_type": "code",
   "execution_count": 14,
   "metadata": {
    "collapsed": true
   },
   "outputs": [],
   "source": [
    "def correct_postcode(postcode):  #postcodes must start with 06, and must be 5 digits long\n",
    "    if len(postcode) != 5: # found short postcodes like 0600, 65 in the data\n",
    "        return None\n",
    "    elif re.match(r'(06\\d\\d\\d)',postcode)  == None: #check if all digits (i.e. not Esma 3 Sokak) and starts with 06\n",
    "        print 'postcode', postcode\n",
    "        return None\n",
    "    return postcode\n",
    "    "
   ]
  },
  {
   "cell_type": "markdown",
   "metadata": {},
   "source": [
    "## Problems ##\n",
    "1) Abbreviated street, avenue names (e.g. 'Cad.', 'Cd', 'Sk.')\n",
    "\n",
    "2) Capitalization problems (e.g. 'cad.' , u'kalekap\\u0131s\\u0131' , 'ANKARA') \n",
    "\n",
    "3) Postcodes should consist of exactly 5 digits, and should start with 06."
   ]
  },
  {
   "cell_type": "code",
   "execution_count": 7,
   "metadata": {
    "collapsed": false
   },
   "outputs": [],
   "source": [
    "global k \n",
    "k=0"
   ]
  },
  {
   "cell_type": "code",
   "execution_count": 30,
   "metadata": {
    "collapsed": false
   },
   "outputs": [],
   "source": [
    "us_ct = 0\n",
    "uniq_users = set()\n",
    "def get_value(element, attribute): #inspired from http://goo.gl/1n3xO5, assigns value if the field exists\n",
    "    try:\n",
    "        return element.attrib[attribute]\n",
    "    except:\n",
    "        return None\n",
    "    \n",
    "def shape_element(element):\n",
    "    global uniq_users\n",
    "    node = {}\n",
    "    lower_colon = re.compile(r'^([a-z]|_)*:([a-z]|_)*$')\n",
    "    problemchars = re.compile(r'[=\\+/&<>;\\'\"\\?%#$@\\,\\. \\t\\r\\n]')\n",
    "\n",
    "    if element.tag == \"node\" or element.tag == \"way\" :\n",
    "        node['type'] = element.tag\n",
    "        node['id'] =  element.attrib['id']\n",
    "        \n",
    "        node['created'] = { 'timestamp' : get_value(element,'timestamp'),\n",
    "                            'version': get_value(element,'version'),\n",
    "                            'changeset': get_value(element,'changeset'), \n",
    "                            'user':get_value(element,'user'), \n",
    "                            'uid': get_value(element,'uid')}\n",
    "        node['visible'] =  get_value(element,'visible')\n",
    "        \n",
    "        try:    \n",
    "            node['pos'] = [float(get_value(element,'lat')), float(get_value(element,'lon'))]\n",
    "        except:\n",
    "            pass\n",
    "        \n",
    "        try:\n",
    "            uniq_users.add(get_value(element,'user'))\n",
    "        except:\n",
    "            pass\n",
    "        \n",
    "        \n",
    "        for i in element:\n",
    "        \n",
    "            if element.tag==\"way\":\n",
    "                try:\n",
    "                    node.setdefault('node_refs',[]).append(i.attrib['ref'])        #http://stackoverflow.com/questions/12905999/python-dict-how-to-create-key-or-append-an-element-to-key\n",
    "                except:\n",
    "                    pass\n",
    "            \n",
    "            try:\n",
    "                if \"addr\" in i.attrib['k']:\n",
    "                    addr, field = lower_colon.match(i.attrib['k']).group().split(':') \n",
    "                    length = len(lower_colon.match(i.attrib['k']).group().split(':'))\n",
    "                    v = i.attrib['v']\n",
    "\n",
    "                    if  length <= 2 and addr=='addr' and problemchars.match(v) == None:   \n",
    "                        if field == 'postcode':\n",
    "                            v = correct_postcode(v)\n",
    "                                                    \n",
    "                        #fix capitalizations, and abbrevations\n",
    "                        \n",
    "                        node.setdefault('address',{}).update({ field: extend_abbrevations(v)  }) \n",
    "                else:\n",
    "                     \n",
    "                    if i.attrib['k'] != 'type': #some entries have <tag k = \"type\" v=...>\n",
    "                        node[i.attrib['k']] = i.attrib['v']\n",
    "                    \n",
    "            except:\n",
    "                pass\n",
    "            \n",
    "        return node\n",
    "    else:\n",
    "  \n",
    "        return None\n"
   ]
  },
  {
   "cell_type": "code",
   "execution_count": 32,
   "metadata": {
    "collapsed": false
   },
   "outputs": [],
   "source": [
    "\n",
    "def process_map(file_in, pretty = False):\n",
    "    k = 0\n",
    " \n",
    "    file_out = \"{0}.json\".format(file_in)\n",
    "    data = []\n",
    "    with codecs.open(file_out, \"w\") as fo:\n",
    "        for _, element in ET.iterparse(file_in):\n",
    "            el  = shape_element(element)\n",
    "            if k > 875100:\n",
    "                break\n",
    "            if el:\n",
    "                k += 1\n",
    "                data.append(el)\n",
    "                if pretty:\n",
    "                    fo.write(json.dumps(el, indent=2)+\"\\n\")\n",
    "                else:\n",
    "                    fo.write(json.dumps(el) + \"\\n\")\n",
    "    \n",
    "    return data"
   ]
  },
  {
   "cell_type": "code",
   "execution_count": 33,
   "metadata": {
    "collapsed": false
   },
   "outputs": [
    {
     "name": "stdout",
     "output_type": "stream",
     "text": [
      "before cleaning:  Atatürk Blv. \t after cleaning:  Atatürk Bulvarı\n",
      "before cleaning:  Vekaletler Cad. \t after cleaning:  Vekaletler Caddesi\n",
      "before cleaning:  Tunalı Hilmi Cad. \t after cleaning:  Tunalı Hilmi Caddesi\n",
      "before cleaning:  Levent Sk. \t after cleaning:  Levent Sokak\n",
      "before cleaning:  Çarşı Cd. \t after cleaning:  Çarşı Caddesi\n",
      "before cleaning:  Çarşı Cd. \t after cleaning:  Çarşı Caddesi\n",
      "before cleaning:  1608. Cd. \t after cleaning:  1608. Caddesi\n",
      "before cleaning:  1608. Cd. \t after cleaning:  1608. Caddesi\n",
      "before cleaning:  1608. Cd. \t after cleaning:  1608. Caddesi\n",
      "before cleaning:  Yavuzevler Sk. \t after cleaning:  Yavuzevler Sokak\n",
      "before cleaning:  Yavuzevler Cd. \t after cleaning:  Yavuzevler Caddesi\n",
      "before cleaning:  Ahi Mesud Bul. \t after cleaning:  Ahi Mesud Bulvarı\n",
      "before cleaning:  Ahi Mesud Bul. \t after cleaning:  Ahi Mesud Bulvarı\n",
      "before cleaning:  Ahi Mesud Bul. \t after cleaning:  Ahi Mesud Bulvarı\n",
      "before cleaning:  Nene Hatun Cad. \t after cleaning:  Nene Hatun Caddesi\n",
      "before cleaning:  524. Sk. \t after cleaning:  524. Sokak\n",
      "before cleaning:  Kader Sk. \t after cleaning:  Kader Sokak\n",
      "before cleaning:  1609. Sk. \t after cleaning:  1609. Sokak\n",
      "before cleaning:  1608. Cd. \t after cleaning:  1608. Caddesi\n",
      "before cleaning:  1608. Cd. \t after cleaning:  1608. Caddesi\n",
      "before cleaning:  1608. Cd. \t after cleaning:  1608. Caddesi\n",
      "before cleaning:  Tunus Cad. \t after cleaning:  Tunus Caddesi\n",
      "before cleaning:  2539. Sk. \t after cleaning:  2539. Sokak\n",
      "before cleaning:  Yaşam Cad. \t after cleaning:  Yaşam Caddesi\n",
      "before cleaning:  Büklüm Sk. \t after cleaning:  Büklüm Sokak\n",
      "before cleaning:  Nene Hatun Cad. \t after cleaning:  Nene Hatun Caddesi\n",
      "before cleaning:  Kızılırmak Sk. \t after cleaning:  Kızılırmak Sokak\n",
      "before cleaning:  Cemal Gürsel Cad. \t after cleaning:  Cemal Gürsel Caddesi\n",
      "before cleaning:  Atatürk Blv. \t after cleaning:  Atatürk Bulvarı\n",
      "before cleaning:  1585. Cd \t after cleaning:  1585. Caddesi\n",
      "before cleaning:  Gazi Mustafa Kemal Blv. \t after cleaning:  Gazi Mustafa Kemal Bulvarı\n",
      "before cleaning:  Mevlana Blv. \t after cleaning:  Mevlana Bulvarı\n",
      "before cleaning:  Mevlana Blv. \t after cleaning:  Mevlana Bulvarı\n",
      "before cleaning:  Dögol Cad. \t after cleaning:  Dögol Caddesi\n",
      "before cleaning:  Celal Bayar Blv. \t after cleaning:  Celal Bayar Bulvarı\n",
      "before cleaning:  Şimşek Sk. \t after cleaning:  Şimşek Sokak\n",
      "before cleaning:  Şimşek Sk. \t after cleaning:  Şimşek Sokak\n",
      "before cleaning:  Kent Koop Mah.  Özgünkent Sit. 1800. Cadde 1859. Sokak  No: 16/B \t after cleaning:  Kent Koop Mahallesi  Özgünkent Sit. 1800. Cadde 1859. Sokak  No: 16/B\n",
      "before cleaning:  3250. Cd (53. Cd.) \t after cleaning:  3250. Caddesi (53. Caddesi.)\n",
      "before cleaning:  Kennedy Cad. \t after cleaning:  Kennedy Caddesi\n",
      "before cleaning:  Aleksander Dubçek Cad. \t after cleaning:  Aleksander Dubçek Caddesi\n",
      "before cleaning:  639. Cad. \t after cleaning:  639. Caddesi\n",
      "before cleaning:  Çevik Bir Cad. \t after cleaning:  Çevik Bir Caddesi\n",
      "before cleaning:  1598. Cd. \t after cleaning:  1598. Caddesi\n",
      "before cleaning:  1598. Cd. \t after cleaning:  1598. Caddesi\n",
      "before cleaning:  1598. Cd. \t after cleaning:  1598. Caddesi\n",
      "before cleaning:  1598. Cd. \t after cleaning:  1598. Caddesi\n",
      "before cleaning:  1598. Cd. \t after cleaning:  1598. Caddesi\n",
      "before cleaning:  1598. Cd. \t after cleaning:  1598. Caddesi\n",
      "before cleaning:  1598. Cd. \t after cleaning:  1598. Caddesi\n",
      "before cleaning:  1598. Cd. \t after cleaning:  1598. Caddesi\n",
      "before cleaning:  1598. Cd. \t after cleaning:  1598. Caddesi\n",
      "before cleaning:  1598. Cd. \t after cleaning:  1598. Caddesi\n",
      "before cleaning:  1598. Cd. \t after cleaning:  1598. Caddesi\n",
      "before cleaning:  1608. Cd. \t after cleaning:  1608. Caddesi\n",
      "before cleaning:  Kelebek Sk. \t after cleaning:  Kelebek Sokak\n",
      "before cleaning:  3222/1. Cd \t after cleaning:  3222/1. Caddesi\n",
      "before cleaning:  Kuveyt Cad. \t after cleaning:  Kuveyt Caddesi\n",
      "before cleaning:  Tutumlu Sk. \t after cleaning:  Tutumlu Sokak\n",
      "before cleaning:  Tutumlu Sk. \t after cleaning:  Tutumlu Sokak\n",
      "before cleaning:  Tutumlu Sk. \t after cleaning:  Tutumlu Sokak\n",
      "before cleaning:  Akhisar Sk. \t after cleaning:  Akhisar Sokak\n",
      "before cleaning:  Akhisar Sk. \t after cleaning:  Akhisar Sokak\n",
      "before cleaning:  Akhisar Sk. \t after cleaning:  Akhisar Sokak\n",
      "before cleaning:  Akhisar Sk. \t after cleaning:  Akhisar Sokak\n",
      "before cleaning:  Akhisar Sk. \t after cleaning:  Akhisar Sokak\n",
      "before cleaning:  Tutumlu Sk. \t after cleaning:  Tutumlu Sokak\n",
      "before cleaning:  Yavuzevler Sk. \t after cleaning:  Yavuzevler Sokak\n",
      "before cleaning:  Akhisar Sk. \t after cleaning:  Akhisar Sokak\n",
      "before cleaning:  Akhisar Sk. \t after cleaning:  Akhisar Sokak\n",
      "before cleaning:  Tutumlu Sk. \t after cleaning:  Tutumlu Sokak\n",
      "before cleaning:  Tutumlu Sk. \t after cleaning:  Tutumlu Sokak\n",
      "before cleaning:  Tutumlu Sk. \t after cleaning:  Tutumlu Sokak\n",
      "before cleaning:  Tutumlu Sk. \t after cleaning:  Tutumlu Sokak\n",
      "before cleaning:  Akhisar Sk. \t after cleaning:  Akhisar Sokak\n",
      "before cleaning:  Tutumlu Sk. \t after cleaning:  Tutumlu Sokak\n",
      "before cleaning:  Tutumlu Sk. \t after cleaning:  Tutumlu Sokak\n",
      "before cleaning:  Akhisar Sk. \t after cleaning:  Akhisar Sokak\n",
      "before cleaning:  Yavuzevler Sk. \t after cleaning:  Yavuzevler Sokak\n",
      "before cleaning:  Ulubey Sk. \t after cleaning:  Ulubey Sokak\n",
      "before cleaning:  Tutumlu Sk. \t after cleaning:  Tutumlu Sokak\n",
      "before cleaning:  Ulubey Sk. \t after cleaning:  Ulubey Sokak\n",
      "before cleaning:  Tutumlu Sk. \t after cleaning:  Tutumlu Sokak\n",
      "before cleaning:  Yavuzevler Sk. \t after cleaning:  Yavuzevler Sokak\n",
      "before cleaning:  Tutumlu Sk. \t after cleaning:  Tutumlu Sokak\n",
      "before cleaning:  Yavuzevler Sk. \t after cleaning:  Yavuzevler Sokak\n",
      "before cleaning:  Tutumlu Sk. \t after cleaning:  Tutumlu Sokak\n",
      "before cleaning:  Yavuzevler Sk. \t after cleaning:  Yavuzevler Sokak\n",
      "before cleaning:  Bağlar Cd. \t after cleaning:  Bağlar Caddesi\n",
      "before cleaning:  Ulubey Sk. \t after cleaning:  Ulubey Sokak\n",
      "before cleaning:  Ulubey Sk. \t after cleaning:  Ulubey Sokak\n",
      "before cleaning:  Yavuzevler Sk. \t after cleaning:  Yavuzevler Sokak\n",
      "before cleaning:  Tutumlu Sk. \t after cleaning:  Tutumlu Sokak\n",
      "before cleaning:  Yavuzevler Sk. \t after cleaning:  Yavuzevler Sokak\n",
      "before cleaning:  Ulubey Sk. \t after cleaning:  Ulubey Sokak\n",
      "before cleaning:  Serhat Sk. \t after cleaning:  Serhat Sokak\n",
      "before cleaning:  Ulubey Sk. \t after cleaning:  Ulubey Sokak\n",
      "before cleaning:  Tutumlu Sk. \t after cleaning:  Tutumlu Sokak\n",
      "before cleaning:  Ulubey Sk. \t after cleaning:  Ulubey Sokak\n",
      "before cleaning:  Ulubey Sk. \t after cleaning:  Ulubey Sokak\n",
      "before cleaning:  Serhat Sk. \t after cleaning:  Serhat Sokak\n",
      "before cleaning:  Yavuzevler Sk. \t after cleaning:  Yavuzevler Sokak\n",
      "before cleaning:  Tutumlu Sk. \t after cleaning:  Tutumlu Sokak\n",
      "before cleaning:  Ulubey Sk. \t after cleaning:  Ulubey Sokak\n",
      "before cleaning:  Tutumlu Sk. \t after cleaning:  Tutumlu Sokak\n",
      "before cleaning:  Yavuzevler Sk. \t after cleaning:  Yavuzevler Sokak\n",
      "before cleaning:  Bağlar Cd. \t after cleaning:  Bağlar Caddesi\n",
      "before cleaning:  Bağlar Cd. \t after cleaning:  Bağlar Caddesi\n",
      "before cleaning:  Bağlar Cd. \t after cleaning:  Bağlar Caddesi\n",
      "before cleaning:  Yavuzevler Sk. \t after cleaning:  Yavuzevler Sokak\n",
      "before cleaning:  Serhat Sk. \t after cleaning:  Serhat Sokak\n",
      "before cleaning:  Bağlar Cd. \t after cleaning:  Bağlar Caddesi\n",
      "before cleaning:  Serhat Sk. \t after cleaning:  Serhat Sokak\n",
      "before cleaning:  Samatya Sk. \t after cleaning:  Samatya Sokak\n",
      "before cleaning:  Bağlar Cd. \t after cleaning:  Bağlar Caddesi\n",
      "before cleaning:  Bağlar Cd. \t after cleaning:  Bağlar Caddesi\n",
      "before cleaning:  Samatya Sk. \t after cleaning:  Samatya Sokak\n",
      "before cleaning:  Samatya Sk. \t after cleaning:  Samatya Sokak\n",
      "before cleaning:  Yavuzevler Sk. \t after cleaning:  Yavuzevler Sokak\n",
      "before cleaning:  Yavuzevler Sk. \t after cleaning:  Yavuzevler Sokak\n",
      "before cleaning:  Yavuzevler Sk. \t after cleaning:  Yavuzevler Sokak\n",
      "before cleaning:  Yavuzevler Sk. \t after cleaning:  Yavuzevler Sokak\n",
      "before cleaning:  Gezegen Sk. \t after cleaning:  Gezegen Sokak\n",
      "before cleaning:  Gezegen Sk. \t after cleaning:  Gezegen Sokak\n",
      "before cleaning:  Koza Sk. \t after cleaning:  Koza Sokak\n",
      "before cleaning:  Gezegen Sk. \t after cleaning:  Gezegen Sokak\n",
      "before cleaning:  Ulubey Sk. \t after cleaning:  Ulubey Sokak\n",
      "before cleaning:  Ulubey Sk. \t after cleaning:  Ulubey Sokak\n",
      "before cleaning:  Koza Sk. \t after cleaning:  Koza Sokak\n",
      "before cleaning:  Gezegen Sk. \t after cleaning:  Gezegen Sokak\n",
      "before cleaning:  Koza Sk. \t after cleaning:  Koza Sokak\n",
      "before cleaning:  Ulubey Sk. \t after cleaning:  Ulubey Sokak\n",
      "before cleaning:  Gezegen Sk. \t after cleaning:  Gezegen Sokak\n",
      "before cleaning:  Ulubey Sk. \t after cleaning:  Ulubey Sokak\n",
      "before cleaning:  Koza Sk. \t after cleaning:  Koza Sokak\n",
      "before cleaning:  Ulubey Sk. \t after cleaning:  Ulubey Sokak\n",
      "before cleaning:  Gezegen Sk. \t after cleaning:  Gezegen Sokak\n",
      "before cleaning:  Ulubey Sk. \t after cleaning:  Ulubey Sokak\n",
      "before cleaning:  Tunus Cad. \t after cleaning:  Tunus Caddesi\n",
      "before cleaning:  Büklüm Sk. \t after cleaning:  Büklüm Sokak\n",
      "before cleaning:  Akay Cd. \t after cleaning:  Akay Caddesi\n",
      "before cleaning:  Güniz Sk. \t after cleaning:  Güniz Sokak\n",
      "before cleaning:  Güniz Sk. \t after cleaning:  Güniz Sokak\n",
      "before cleaning:  Kızılırmak Sk. \t after cleaning:  Kızılırmak Sokak\n",
      "before cleaning:  Cinnah Cad. \t after cleaning:  Cinnah Caddesi\n",
      "before cleaning:  Cinnah Cad. \t after cleaning:  Cinnah Caddesi\n",
      "before cleaning:  Cinnah Cad. \t after cleaning:  Cinnah Caddesi\n",
      "before cleaning:  Mithat Paşa Cad. \t after cleaning:  Mithat Paşa Caddesi\n",
      "before cleaning:  3250. Cd \t after cleaning:  3250. Caddesi\n",
      "before cleaning:  Mevlana Blv. \t after cleaning:  Mevlana Bulvarı\n",
      "before cleaning:  Ankaralılar Cd. \t after cleaning:  Ankaralılar Caddesi\n",
      "before cleaning:  Hipodrom Cad.;Talat Paşa Blv. \t after cleaning:  Hipodrom Cad.;Talat Paşa Bulvarı\n",
      "before cleaning:  Soğütözü Cd. \t after cleaning:  Soğütözü Caddesi\n",
      "before cleaning:  Eryaman Mah. \t after cleaning:  Eryaman Mahallesi\n",
      "before cleaning:  Eryaman Mah. \t after cleaning:  Eryaman Mahallesi\n",
      "before cleaning:  Cevizlidere Cad. \t after cleaning:  Cevizlidere Caddesi\n",
      "before cleaning:  William Thomsen Cad. \t after cleaning:  William Thomsen Caddesi\n",
      "before cleaning:  Silahtar Cad. \t after cleaning:  Silahtar Caddesi\n",
      "before cleaning:  524. Sk. \t after cleaning:  524. Sokak\n",
      "before cleaning:  Uzayçağı Cd \t after cleaning:  Uzayçağı Caddesi\n",
      "before cleaning:  Sokullu Mehmet Paşa Cad. \t after cleaning:  Sokullu Mehmet Paşa Caddesi\n",
      "before cleaning:  Sokullu Mehmet Paşa Cad. \t after cleaning:  Sokullu Mehmet Paşa Caddesi\n",
      "before cleaning:  Turan Güneş Blv. \t after cleaning:  Turan Güneş Bulvarı\n",
      "before cleaning:  680. Sk. \t after cleaning:  680. Sokak\n",
      "before cleaning:  2043. Sk. \t after cleaning:  2043. Sokak\n",
      "before cleaning:  17. Sk. \t after cleaning:  17. Sokak\n",
      "before cleaning:  17. Sk. \t after cleaning:  17. Sokak\n",
      "before cleaning:  17. Sk. \t after cleaning:  17. Sokak\n",
      "before cleaning:  17. Sk. \t after cleaning:  17. Sokak\n",
      "before cleaning:  17. Sk. \t after cleaning:  17. Sokak\n",
      "before cleaning:  17. Sk. \t after cleaning:  17. Sokak\n",
      "before cleaning:  17. Sk. \t after cleaning:  17. Sokak\n",
      "before cleaning:  17. Sk. \t after cleaning:  17. Sokak\n"
     ]
    }
   ],
   "source": [
    "clean_ankara = process_map(\"ankara_turkey.osm\")"
   ]
  },
  {
   "cell_type": "code",
   "execution_count": 16,
   "metadata": {
    "collapsed": false
   },
   "outputs": [
    {
     "name": "stdout",
     "output_type": "stream",
     "text": [
      "ABD Büyükelçiliği\n",
      "311\n"
     ]
    }
   ],
   "source": [
    "ct=0\n",
    "for i in clean_ankara:\n",
    "    if ct >310:\n",
    "        break\n",
    "    \n",
    " \n",
    "    try:\n",
    "        if 'ABD' in i['name']:\n",
    "            print i['name'].encode('utf-8')\n",
    "        # i['address']\n",
    "        ct += 1\n",
    "        #if i['address']['city'].islower():\n",
    "        #    print i['address']['city']\n",
    "        #    ct +=1 \n",
    "        #if i['type']=='node' or i['type']=='way':\n",
    "                 \n",
    "    except:\n",
    "        pass\n",
    "print ct\n"
   ]
  },
  {
   "cell_type": "code",
   "execution_count": null,
   "metadata": {
    "collapsed": true
   },
   "outputs": [],
   "source": []
  }
 ],
 "metadata": {
  "kernelspec": {
   "display_name": "Python 2",
   "language": "python",
   "name": "python2"
  },
  "language_info": {
   "codemirror_mode": {
    "name": "ipython",
    "version": 2
   },
   "file_extension": ".py",
   "mimetype": "text/x-python",
   "name": "python",
   "nbconvert_exporter": "python",
   "pygments_lexer": "ipython2",
   "version": "2.7.9"
  }
 },
 "nbformat": 4,
 "nbformat_minor": 0
}
