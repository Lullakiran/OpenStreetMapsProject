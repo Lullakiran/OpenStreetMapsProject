{
 "cells": [
  {
   "cell_type": "code",
   "execution_count": 1,
   "metadata": {
    "collapsed": false
   },
   "outputs": [],
   "source": [
    "import xml.etree.ElementTree as ET\n",
    "import codecs\n",
    "import json\n",
    "import re"
   ]
  },
  {
   "cell_type": "code",
   "execution_count": 2,
   "metadata": {
    "collapsed": false
   },
   "outputs": [],
   "source": [
    "def get_root(fname):\n",
    "    tree = ET.parse(fname)\n",
    "    return tree.getroot()\n",
    "input_ankara = \"ankara_turkey.osm\""
   ]
  },
  {
   "cell_type": "code",
   "execution_count": 3,
   "metadata": {
    "collapsed": false
   },
   "outputs": [],
   "source": [
    "def count_tags(root,tag):\n",
    "    tag_count = 0\n",
    "    for i in root.findall(tag):\n",
    "        tag_count += 1\n",
    "    return tag_count\n",
    " "
   ]
  },
  {
   "cell_type": "code",
   "execution_count": 32,
   "metadata": {
    "collapsed": false
   },
   "outputs": [],
   "source": [
    "root = get_root(input_ankara)"
   ]
  },
  {
   "cell_type": "code",
   "execution_count": 33,
   "metadata": {
    "collapsed": false
   },
   "outputs": [
    {
     "name": "stdout",
     "output_type": "stream",
     "text": [
      "node count:  638467\n",
      "way count:  92056\n",
      "relation count:  220\n"
     ]
    }
   ],
   "source": [
    "for i in ['node', 'way', 'relation' ]:\n",
    "    print i, 'count: ', count_tags(root,i)"
   ]
  },
  {
   "cell_type": "code",
   "execution_count": 29,
   "metadata": {
    "collapsed": false
   },
   "outputs": [
    {
     "ename": "NameError",
     "evalue": "name 'root' is not defined",
     "output_type": "error",
     "traceback": [
      "\u001b[1;31m---------------------------------------------------------------------------\u001b[0m",
      "\u001b[1;31mNameError\u001b[0m                                 Traceback (most recent call last)",
      "\u001b[1;32m<ipython-input-29-57ca3aea0480>\u001b[0m in \u001b[0;36m<module>\u001b[1;34m()\u001b[0m\n\u001b[0;32m      1\u001b[0m \u001b[0mct\u001b[0m\u001b[1;33m=\u001b[0m \u001b[1;36m0\u001b[0m\u001b[1;33m\u001b[0m\u001b[0m\n\u001b[0;32m      2\u001b[0m \u001b[0muser\u001b[0m \u001b[1;33m=\u001b[0m \u001b[1;33m{\u001b[0m\u001b[1;33m}\u001b[0m\u001b[1;33m\u001b[0m\u001b[0m\n\u001b[1;32m----> 3\u001b[1;33m \u001b[1;32mfor\u001b[0m \u001b[0mi\u001b[0m \u001b[1;32min\u001b[0m \u001b[0mroot\u001b[0m\u001b[1;33m.\u001b[0m\u001b[0mfindall\u001b[0m\u001b[1;33m(\u001b[0m\u001b[1;34m'node'\u001b[0m\u001b[1;33m)\u001b[0m\u001b[1;33m:\u001b[0m\u001b[1;33m\u001b[0m\u001b[0m\n\u001b[0m\u001b[0;32m      4\u001b[0m     \u001b[1;32mprint\u001b[0m \u001b[0mi\u001b[0m\u001b[1;33m.\u001b[0m\u001b[0mattrib\u001b[0m\u001b[1;33m\u001b[0m\u001b[0m\n\u001b[0;32m      5\u001b[0m     \u001b[1;32mtry\u001b[0m\u001b[1;33m:\u001b[0m\u001b[1;33m\u001b[0m\u001b[0m\n",
      "\u001b[1;31mNameError\u001b[0m: name 'root' is not defined"
     ]
    }
   ],
   "source": [
    "ct= 0 \n",
    "user = {}\n",
    "for i in root.findall('node'):\n",
    "    print i.attrib \n",
    "    try:\n",
    "       user[i.attrib['user']] += 1\n",
    "    except:\n",
    "        user[i.attrib['user']] = 1\n",
    "        \n",
    "    if ct >5:\n",
    "        break\n",
    "    ct +=1"
   ]
  },
  {
   "cell_type": "code",
   "execution_count": 98,
   "metadata": {
    "collapsed": false
   },
   "outputs": [],
   "source": [
    "abbrevations = ['Cad.', '[cC]d']\n",
    "address_tags = set()"
   ]
  },
  {
   "cell_type": "code",
   "execution_count": 402,
   "metadata": {
    "collapsed": false
   },
   "outputs": [],
   "source": [
    "ct = 0\n",
    "rel = {}\n",
    "for _,j in ET.iterparse(\"ankara_turkey.osm\"):\n",
    "    if j.tag == 'node':\n",
    "        ct += 1\n",
    "                    "
   ]
  },
  {
   "cell_type": "code",
   "execution_count": 403,
   "metadata": {
    "collapsed": false
   },
   "outputs": [
    {
     "data": {
      "text/plain": [
       "638467"
      ]
     },
     "execution_count": 403,
     "metadata": {},
     "output_type": "execute_result"
    }
   ],
   "source": [
    "ct"
   ]
  },
  {
   "cell_type": "code",
   "execution_count": 139,
   "metadata": {
    "collapsed": false
   },
   "outputs": [],
   "source": [
    "for i,v in rel.iteritems():\n",
    "    #print i,v\n",
    "    print i.encode('utf-8')"
   ]
  },
  {
   "cell_type": "markdown",
   "metadata": {},
   "source": [
    "## Problems ##\n",
    "1) Abbreviated street, avenue names (e.g. 'Cad.', 'Cd', 'Sk.')\n",
    "\n",
    "2) Use of multiple road/street names in the street name colum, such as  ('addr:street':'Barbaros Mah. Dereboyu Cad. Fulye Sok.') (which is Barbaros District Dereboyu Avenue Fulye Street)\n",
    "\n",
    "3) Capitalization problems (e.g. 'cad.' , 'muvakkithane' , 'ULUBATLI HASAN SOKAK') \n",
    "\n",
    "4) Postcodes having more than 5 digits (i.e. 364303), or not starting with 34 (i.e. 41400)"
   ]
  },
  {
   "cell_type": "code",
   "execution_count": 392,
   "metadata": {
    "collapsed": false
   },
   "outputs": [],
   "source": [
    "global k \n",
    "k=0"
   ]
  },
  {
   "cell_type": "code",
   "execution_count": 4,
   "metadata": {
    "collapsed": false
   },
   "outputs": [],
   "source": [
    "def shape_element(element):\n",
    "    node = {}\n",
    "    lower_colon = re.compile(r'^([a-z]|_)*:([a-z]|_)*$')\n",
    "    problemchars = re.compile(r'[=\\+/&<>;\\'\"\\?%#$@\\,\\. \\t\\r\\n]')\n",
    "\n",
    "    if element.tag == \"node\" or element.tag == \"way\" :\n",
    "        node['type'] = element.tag\n",
    "        node['id'] =  element.attrib['id']\n",
    "        \n",
    " \n",
    "        try:          \n",
    "            node['created'] = { 'timestamp' : element.attrib['timestamp'], 'version': element.attrib['version'],\n",
    "                               'changeset': element.attrib['changeset'], 'user':element.attrib['user'], \n",
    "                               'uid': element.attrib['uid']}\n",
    "            node['pos'] = [float(element.attrib['lat']), float(element.attrib['lon'])]\n",
    "            node['visible'] =  element.attrib['visible']\n",
    "            \n",
    "            \n",
    "  \n",
    "            \n",
    "        except:\n",
    "            pass\n",
    "        \n",
    "        for i in element:\n",
    "        \n",
    "            if element.tag==\"way\":\n",
    "                try:\n",
    "                    node.setdefault('node_refs',[]).append(i.attrib['ref'])        #http://stackoverflow.com/questions/12905999/python-dict-how-to-create-key-or-append-an-element-to-key\n",
    "                except:\n",
    "                    pass\n",
    "            \n",
    "            try:\n",
    "                if \"addr\" in i.attrib['k']:\n",
    "                    addr, field = lower_colon.match(i.attrib['k']).group().split(':') \n",
    "                    length = len(lower_colon.match(i.attrib['k']).group().split(':'))\n",
    "                    v = i.attrib['v']\n",
    "\n",
    "                    if  length <= 2 and addr=='addr' and problemchars.match(v) == None:   \n",
    "                        if field == 'postcode':\n",
    "                            v = correct_postcode(v)\n",
    "\n",
    "                        node.setdefault('address',{}).update({ field: cleanup(v).title()})\n",
    "                else:\n",
    "                     \n",
    "                    if i.attrib['k'] != 'type': #some values have <tag k = \"type\" v=...>\n",
    "                        node[i.attrib['k']] = i.attrib['v']\n",
    "            except:\n",
    "                pass\n",
    "                    \n",
    "            \n",
    "                \n",
    "        return node\n",
    "    else:\n",
    "  \n",
    "        return None\n"
   ]
  },
  {
   "cell_type": "code",
   "execution_count": 5,
   "metadata": {
    "collapsed": false
   },
   "outputs": [],
   "source": [
    "\n",
    "def process_map(file_in, pretty = False):\n",
    "    # You do not need to change this file\n",
    "     \n",
    "    file_out = \"{0}.json\".format(file_in)\n",
    "    data = []\n",
    "    with codecs.open(file_out, \"w\") as fo:\n",
    "        for _, element in ET.iterparse(file_in):\n",
    "            \n",
    "            el  = shape_element(element)\n",
    "            if el:\n",
    "                 \n",
    "                data.append(el)\n",
    "                if pretty:\n",
    "                    fo.write(json.dumps(el, indent=2)+\"\\n\")\n",
    "                else:\n",
    "                    fo.write(json.dumps(el) + \"\\n\")\n",
    "    print 'finish' \n",
    "    return data"
   ]
  },
  {
   "cell_type": "code",
   "execution_count": null,
   "metadata": {
    "collapsed": false
   },
   "outputs": [],
   "source": [
    "clean_ankara = process_map(\"ankara_turkey.osm\")"
   ]
  },
  {
   "cell_type": "code",
   "execution_count": 54,
   "metadata": {
    "collapsed": false
   },
   "outputs": [
    {
     "name": "stdout",
     "output_type": "stream",
     "text": [
      "730523\n"
     ]
    }
   ],
   "source": [
    "print len(clean_ankara)"
   ]
  },
  {
   "cell_type": "code",
   "execution_count": 275,
   "metadata": {
    "collapsed": false
   },
   "outputs": [],
   "source": [
    "def extend_abbrevations(word):\n",
    "    \n",
    "    abbrevations = { 'Cd.': 'Caddesi', 'Cad.':'Caddesi', 'Cd':'Caddesi', 'Sk.':'Sokak', \n",
    "                    'Mah.':'Mahallesi', 'Blv.':u'Bulvar\\u0131', 'Bul.':u'Bulvar\\u0131'}\n",
    "    for i in word.split():\n",
    "        try:\n",
    "            word = word.replace(i,abbrevations[i])\n",
    "        except:\n",
    "            pass\n",
    "    return word"
   ]
  },
  {
   "cell_type": "code",
   "execution_count": 276,
   "metadata": {
    "collapsed": false
   },
   "outputs": [
    {
     "data": {
      "text/plain": [
       "'Atat\\xc3\\xbcrk blv.'"
      ]
     },
     "execution_count": 276,
     "metadata": {},
     "output_type": "execute_result"
    }
   ],
   "source": [
    "cleanup('Atatürk blv.')"
   ]
  },
  {
   "cell_type": "code",
   "execution_count": 448,
   "metadata": {
    "collapsed": true
   },
   "outputs": [],
   "source": [
    "def discard_multiples(way):\n",
    " \n",
    "    if 'Sokak' in way and 'Mahallesi' in way:\n",
    "        way= re.findall('Mahallesi (.*?)Sokak',way)[0]+ 'Sokak'\n",
    "    if 'Caddesi'in way and 'Sokak' in way:\n",
    "        way= re.findall('Caddesi (.*?)Sokak',way)[0]+ 'Sokak'\n",
    "    return way\n",
    "        "
   ]
  },
  {
   "cell_type": "code",
   "execution_count": 270,
   "metadata": {
    "collapsed": false
   },
   "outputs": [
    {
     "data": {
      "text/plain": [
       "'guzel Sokak'"
      ]
     },
     "execution_count": 270,
     "metadata": {},
     "output_type": "execute_result"
    }
   ],
   "source": [
    "discard_multiples('ahmet yesevı Mahallesi guzel Sokak')"
   ]
  },
  {
   "cell_type": "code",
   "execution_count": 357,
   "metadata": {
    "collapsed": false
   },
   "outputs": [],
   "source": [
    "def correct_postcode(postcode):  #postcodes must start with 06, and must be 5 digits long\n",
    "    if len(postcode) != 5:\n",
    "        return None\n",
    "    elif re.match(r'(06\\d\\d\\d)',postcode)  == None:\n",
    "        return None\n",
    "    #return True\n",
    "    return postcode\n",
    "    "
   ]
  },
  {
   "cell_type": "code",
   "execution_count": 358,
   "metadata": {
    "collapsed": false
   },
   "outputs": [
    {
     "name": "stdout",
     "output_type": "stream",
     "text": [
      "06121\n"
     ]
    }
   ],
   "source": [
    "print correct_postcode(u'06121')"
   ]
  },
  {
   "cell_type": "code",
   "execution_count": 339,
   "metadata": {
    "collapsed": false
   },
   "outputs": [
    {
     "data": {
      "text/plain": [
       "True"
      ]
     },
     "execution_count": 339,
     "metadata": {},
     "output_type": "execute_result"
    }
   ],
   "source": [
    "re.match(r'(06...)','206131') == None"
   ]
  },
  {
   "cell_type": "code",
   "execution_count": 368,
   "metadata": {
    "collapsed": true
   },
   "outputs": [],
   "source": [
    "a="
   ]
  },
  {
   "cell_type": "code",
   "execution_count": 371,
   "metadata": {
    "collapsed": false
   },
   "outputs": [
    {
     "data": {
      "text/plain": [
       "False"
      ]
     },
     "execution_count": 371,
     "metadata": {},
     "output_type": "execute_result"
    }
   ],
   "source": [
    "'fafDa'.islower()"
   ]
  },
  {
   "cell_type": "code",
   "execution_count": null,
   "metadata": {
    "collapsed": true
   },
   "outputs": [],
   "source": []
  }
 ],
 "metadata": {
  "kernelspec": {
   "display_name": "Python 2",
   "language": "python",
   "name": "python2"
  },
  "language_info": {
   "codemirror_mode": {
    "name": "ipython",
    "version": 2
   },
   "file_extension": ".py",
   "mimetype": "text/x-python",
   "name": "python",
   "nbconvert_exporter": "python",
   "pygments_lexer": "ipython2",
   "version": "2.7.9"
  }
 },
 "nbformat": 4,
 "nbformat_minor": 0
}
