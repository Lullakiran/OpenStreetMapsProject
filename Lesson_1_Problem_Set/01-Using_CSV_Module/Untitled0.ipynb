{
 "metadata": {
  "name": "",
  "signature": "sha256:1eb709a483faa419bdc86cffff08052db58a54daa0f423eecccd0758e698f3b8"
 },
 "nbformat": 3,
 "nbformat_minor": 0,
 "worksheets": [
  {
   "cells": [
    {
     "cell_type": "code",
     "collapsed": false,
     "input": [
      "#!/usr/bin/env python\n",
      "\"\"\"\n",
      "Your task is to process the supplied file and use the csv module to extract data from it.\n",
      "The data comes from NREL (National Renewable Energy Laboratory) website. Each file\n",
      "contains information from one meteorological station, in particular - about amount of\n",
      "solar and wind energy for each hour of day.\n",
      "\n",
      "Note that the first line of the datafile is neither data entry, nor header. It is a line\n",
      "describing the data source. You should extract the name of the station from it.\n",
      "\n",
      "The data should be returned as a list of lists (not dictionaries).\n",
      "You can use the csv modules \"reader\" method to get data in such format.\n",
      "Another useful method is next() - to get the next line from the iterator.\n",
      "You should only change the parse_file function.\n",
      "\"\"\"\n",
      "import csv\n",
      "import os\n",
      "\n",
      "DATADIR = \"\"\n",
      "DATAFILE = \"745090.csv\"\n",
      "\n",
      "\n",
      "def parse_file(datafile):\n",
      "    name = \"\"\n",
      "    data = []\n",
      "    with open(datafile,'rb') as f:\n",
      "           \n",
      "        streamreader = csv.reader(f, delimiter=',', quotechar='\"')\n",
      "        name=streamreader.next()[1]\n",
      "        streamreader.next()\n",
      "      \n",
      "        for i in streamreader:\n",
      "            data.append(i)\n",
      "        pass\n",
      "    \n",
      "    # Do not change the line below\n",
      "    return (name, data)\n",
      "\n",
      "\n",
      "def test():\n",
      "    datafile = os.path.join(DATADIR, DATAFILE)\n",
      "    name, data = parse_file(datafile)\n",
      "    print name\n",
      "    assert name == \"MOUNTAIN VIEW MOFFETT FLD NAS\"\n",
      "    assert data[0][1] == \"01:00\"\n",
      "    assert data[2][0] == \"01/01/2005\"\n",
      "    assert data[2][5] == \"2\"\n",
      "\n",
      "\n",
      "if __name__ == \"__main__\":\n",
      "    test()"
     ],
     "language": "python",
     "metadata": {},
     "outputs": [
      {
       "output_type": "stream",
       "stream": "stdout",
       "text": [
        "MOUNTAIN VIEW MOFFETT FLD NAS\n",
        "<type 'str'>\n",
        "MOUNTAIN VIEW MOFFETT FLD NAS\n"
       ]
      }
     ],
     "prompt_number": 62
    },
    {
     "cell_type": "code",
     "collapsed": false,
     "input": [],
     "language": "python",
     "metadata": {},
     "outputs": []
    }
   ],
   "metadata": {}
  }
 ]
}