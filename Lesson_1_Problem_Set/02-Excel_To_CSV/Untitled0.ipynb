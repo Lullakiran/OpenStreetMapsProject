{
 "metadata": {
  "name": "",
  "signature": "sha256:342bb4153f0a9ddaefa5ea5ebb7b67abd04d871782b83954ce668d13f5f421c1"
 },
 "nbformat": 3,
 "nbformat_minor": 0,
 "worksheets": [
  {
   "cells": [
    {
     "cell_type": "code",
     "collapsed": false,
     "input": [
      "import csv\n",
      "\n",
      "mydict = {\"John\":{'car':'BMW','age':27}, 'Mike':{'car':'Jetta', 'age':35}, 'Jack' : {'car':'Audi', 'age':38} }\n",
      "col_names = ['name','car','age']\n",
      "out = {}\n",
      "#mydict = { {'car':'BMW','age':27}, {'car':'Jetta', 'age':35}, {'car':'Audi', 'age':38 }}\n"
     ],
     "language": "python",
     "metadata": {},
     "outputs": [],
     "prompt_number": 2
    },
    {
     "cell_type": "code",
     "collapsed": false,
     "input": [
      "out = {}\n",
      "for key, value in mydict.iteritems():\n",
      "   print value['age']  \n",
      "   if value['age']> 30:\n",
      "        out[key] = value\n",
      "        #out.update(value)\n",
      "print out"
     ],
     "language": "python",
     "metadata": {},
     "outputs": [
      {
       "output_type": "stream",
       "stream": "stdout",
       "text": [
        "35\n",
        "27\n",
        "38\n",
        "{'Mike': {'car': 'Jetta', 'age': 35}, 'Jack': {'car': 'Audi', 'age': 38}}\n"
       ]
      }
     ],
     "prompt_number": 3
    },
    {
     "cell_type": "code",
     "collapsed": false,
     "input": [
      "for key in out:\n",
      "    print   key, out[key]"
     ],
     "language": "python",
     "metadata": {},
     "outputs": [
      {
       "output_type": "stream",
       "stream": "stdout",
       "text": [
        "Mike {'car': 'Jetta', 'age': 35}\n",
        "Jack {'car': 'Audi', 'age': 38}\n"
       ]
      }
     ],
     "prompt_number": 4
    },
    {
     "cell_type": "code",
     "collapsed": false,
     "input": [
      "rows = [{'Symbol':'AA', 'Price':39.48, 'Date':'6/11/2007',\n",
      "          'Time':'9:36am', 'Change':-0.18, 'Volume':181800},\n",
      "        {'Symbol':'AIG', 'Price': 71.38, 'Date':'6/11/2007',\n",
      "          'Time':'9:36am', 'Change':-0.15, 'Volume': 195500},\n",
      "        {'Symbol':'AXP', 'Price': 62.58, 'Date':'6/11/2007',\n",
      "          'Time':'9:36am', 'Change':-0.46, 'Volume': 935000},\n",
      "        ]"
     ],
     "language": "python",
     "metadata": {},
     "outputs": [],
     "prompt_number": 5
    },
    {
     "cell_type": "code",
     "collapsed": false,
     "input": [
      "type(rows)\n",
      "len(rows)"
     ],
     "language": "python",
     "metadata": {},
     "outputs": [
      {
       "metadata": {},
       "output_type": "pyout",
       "prompt_number": 9,
       "text": [
        "3"
       ]
      }
     ],
     "prompt_number": 9
    },
    {
     "cell_type": "code",
     "collapsed": false,
     "input": [
      "for i in rows:\n",
      "    print type(i)"
     ],
     "language": "python",
     "metadata": {},
     "outputs": [
      {
       "output_type": "stream",
       "stream": "stdout",
       "text": [
        "<type 'dict'>\n",
        "<type 'dict'>\n",
        "<type 'dict'>\n"
       ]
      }
     ],
     "prompt_number": 8
    },
    {
     "cell_type": "code",
     "collapsed": false,
     "input": [],
     "language": "python",
     "metadata": {},
     "outputs": []
    }
   ],
   "metadata": {}
  }
 ]
}